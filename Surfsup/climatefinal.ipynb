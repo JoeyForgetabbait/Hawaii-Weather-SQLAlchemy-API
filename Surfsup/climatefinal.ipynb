{
 "cells": [
  {
   "cell_type": "markdown",
   "id": "2f17f139-4fd1-443d-8f72-d0381c10f09b",
   "metadata": {
    "tags": []
   },
   "source": [
    "# Hawaiian Climate Exploratory Analysis for App"
   ]
  },
  {
   "cell_type": "markdown",
   "id": "d9839f28-52a5-4c83-a897-eaaed348b8b5",
   "metadata": {},
   "source": [
    "## Use SQLAlchemy to load and explore data"
   ]
  },
  {
   "cell_type": "code",
   "execution_count": null,
   "id": "8579a785-a233-4ac6-bf95-fabb278b0c23",
   "metadata": {},
   "outputs": [],
   "source": [
    "#import dependencies \n",
    "%matplotlib inline\n",
    "from matplotlib import style\n",
    "style.use('fivethirtyeight')\n",
    "import matplotlib.pyplot as plt\n",
    "import matplotlib.dates as mdates\n",
    "plt.rcParams['figure.figsize'] = [10, 6]"
   ]
  },
  {
   "cell_type": "code",
   "execution_count": 3,
   "id": "f95c6733-c31e-4403-9e7a-aa7bc8935ecb",
   "metadata": {
    "tags": []
   },
   "outputs": [],
   "source": [
    "import numpy as np\n",
    "import pandas as pd\n",
    "from datetime import timedelta, datetime\n",
    "import datetime as dt"
   ]
  },
  {
   "cell_type": "code",
   "execution_count": 4,
   "id": "8c512247-9a9f-49ab-bea2-315a76562645",
   "metadata": {
    "tags": []
   },
   "outputs": [],
   "source": [
    "#Python SQL toolkit and Object Relational Mapper\n",
    "import sqlalchemy\n",
    "from sqlalchemy.ext.automap import automap_base\n",
    "from sqlalchemy.orm import Session\n",
    "from sqlalchemy import create_engine, func"
   ]
  },
  {
   "cell_type": "code",
   "execution_count": 5,
   "id": "124ca4ab-6e3a-4c3e-a41c-388becd6a8e9",
   "metadata": {
    "tags": []
   },
   "outputs": [],
   "source": [
    "#create sqlite database connection\n",
    "engine = create_engine(\"sqlite:///Resources/hawaii.sqlite\")"
   ]
  },
  {
   "cell_type": "code",
   "execution_count": 6,
   "id": "9cb82c72-8bcd-444a-a185-9c1e700b8d91",
   "metadata": {
    "tags": []
   },
   "outputs": [],
   "source": [
    "#reflect the data into clases \n",
    "#assign base \n",
    "Base = automap_base()\n",
    "\n",
    "#Reflect the classes into tables \n",
    "Base.prepare(engine, reflect=True)\n",
    "\n",
    "Table1 = Base.classes.measurement\n",
    "Table2 = Base.classes.station\n"
   ]
  },
  {
   "cell_type": "code",
   "execution_count": 7,
   "id": "42f3fcca-0261-4a01-8c9a-f8dcc9a32595",
   "metadata": {
    "tags": []
   },
   "outputs": [],
   "source": [
    "# Create a session\n",
    "session = Session(engine)\n",
    "\n",
    "# Perform operations using the session\n",
    "results1 = session.query(Table1).all()\n",
    "results2 = session.query(Table2).all()\n"
   ]
  },
  {
   "cell_type": "code",
   "execution_count": 8,
   "id": "9f45887f-f78b-4aad-b769-6fb0d820028d",
   "metadata": {},
   "outputs": [],
   "source": [
    "#Precipitation analyais "
   ]
  },
  {
   "cell_type": "code",
   "execution_count": 9,
   "id": "fa9ada73-d800-4f43-8982-2c8344fe7f7b",
   "metadata": {
    "tags": []
   },
   "outputs": [
    {
     "name": "stdout",
     "output_type": "stream",
     "text": [
      "Most recent entry date in measurment class: 2017-08-23\n"
     ]
    }
   ],
   "source": [
    "most_recent_entry = session.query(Table1).order_by(Table1.date.desc()).first()\n",
    "\n",
    "if most_recent_entry:\n",
    "    most_recent_date = most_recent_entry.date\n",
    "    print(\"Most recent entry date in measurment class:\", most_recent_date)\n",
    "else:\n",
    "    print(\"No data found in the class.\")"
   ]
  },
  {
   "cell_type": "code",
   "execution_count": 10,
   "id": "259e70f3-fd09-4034-8479-3e1f41c0fdde",
   "metadata": {
    "tags": []
   },
   "outputs": [
    {
     "data": {
      "text/plain": [
       "{'_sa_instance_state': <sqlalchemy.orm.state.InstanceState at 0x7f88c7502e60>,\n",
       " 'name': 'WAIKIKI 717.2, HI US',\n",
       " 'longitude': -157.8168,\n",
       " 'station': 'USC00519397',\n",
       " 'latitude': 21.2716,\n",
       " 'id': 1,\n",
       " 'elevation': 3.0}"
      ]
     },
     "execution_count": 10,
     "metadata": {},
     "output_type": "execute_result"
    }
   ],
   "source": [
    "most_recent_entry = session.query(Table2).first()\n",
    "most_recent_entry.__dict__\n"
   ]
  },
  {
   "cell_type": "code",
   "execution_count": 11,
   "id": "d652a891-3e0b-4903-aa73-6be92c57aa46",
   "metadata": {
    "tags": []
   },
   "outputs": [
    {
     "data": {
      "text/plain": [
       "{'_sa_instance_state': <sqlalchemy.orm.state.InstanceState at 0x7f88c55b01f0>,\n",
       " 'prcp': 0.08,\n",
       " 'id': 1,\n",
       " 'tobs': 65.0,\n",
       " 'date': '2010-01-01',\n",
       " 'station': 'USC00519397'}"
      ]
     },
     "execution_count": 11,
     "metadata": {},
     "output_type": "execute_result"
    }
   ],
   "source": [
    "most_recent_entry = session.query(Table1).first()\n",
    "most_recent_entry.__dict__\n"
   ]
  },
  {
   "cell_type": "code",
   "execution_count": 12,
   "id": "2115e001-00a5-4010-a7ca-f2dbed4824aa",
   "metadata": {
    "tags": []
   },
   "outputs": [],
   "source": [
    "#Calculate the date twelve months ago\n",
    "twelve_months_ago = dt.date(2017,8,23) - dt.timedelta(days=365)\n",
    "\n",
    "# Query the data for the last twelve months\n",
    "results = session.query(Table1).filter(Table1.date >= twelve_months_ago).all()\n"
   ]
  },
  {
   "cell_type": "code",
   "execution_count": 13,
   "id": "976bb1bd-9385-4fb9-ba7e-6668f4a4efb6",
   "metadata": {
    "tags": []
   },
   "outputs": [],
   "source": [
    "# Perform a query to retrieve the data and precipitation scores\n",
    "results = session.query(Table1.date, Table1.prcp).filter(Table1.date >= twelve_months_ago).all()\n",
    "\n",
    "# Save the query results as a Pandas DataFrame. Explicitly set the column names\n",
    "date_precip_df = pd.DataFrame(results, columns=['date', 'precipitation'])"
   ]
  },
  {
   "cell_type": "code",
   "execution_count": 14,
   "id": "bd4fe4df-351e-4582-949e-b0db62842da9",
   "metadata": {},
   "outputs": [
    {
     "data": {
      "text/html": [
       "<div>\n",
       "<style scoped>\n",
       "    .dataframe tbody tr th:only-of-type {\n",
       "        vertical-align: middle;\n",
       "    }\n",
       "\n",
       "    .dataframe tbody tr th {\n",
       "        vertical-align: top;\n",
       "    }\n",
       "\n",
       "    .dataframe thead th {\n",
       "        text-align: right;\n",
       "    }\n",
       "</style>\n",
       "<table border=\"1\" class=\"dataframe\">\n",
       "  <thead>\n",
       "    <tr style=\"text-align: right;\">\n",
       "      <th></th>\n",
       "      <th>date</th>\n",
       "      <th>precipitation</th>\n",
       "    </tr>\n",
       "  </thead>\n",
       "  <tbody>\n",
       "    <tr>\n",
       "      <th>0</th>\n",
       "      <td>2016-08-23</td>\n",
       "      <td>0.00</td>\n",
       "    </tr>\n",
       "    <tr>\n",
       "      <th>1</th>\n",
       "      <td>2016-08-24</td>\n",
       "      <td>0.08</td>\n",
       "    </tr>\n",
       "    <tr>\n",
       "      <th>2</th>\n",
       "      <td>2016-08-25</td>\n",
       "      <td>0.08</td>\n",
       "    </tr>\n",
       "    <tr>\n",
       "      <th>3</th>\n",
       "      <td>2016-08-26</td>\n",
       "      <td>0.00</td>\n",
       "    </tr>\n",
       "    <tr>\n",
       "      <th>4</th>\n",
       "      <td>2016-08-27</td>\n",
       "      <td>0.00</td>\n",
       "    </tr>\n",
       "    <tr>\n",
       "      <th>5</th>\n",
       "      <td>2016-08-28</td>\n",
       "      <td>0.01</td>\n",
       "    </tr>\n",
       "    <tr>\n",
       "      <th>6</th>\n",
       "      <td>2016-08-29</td>\n",
       "      <td>0.00</td>\n",
       "    </tr>\n",
       "    <tr>\n",
       "      <th>7</th>\n",
       "      <td>2016-08-30</td>\n",
       "      <td>0.00</td>\n",
       "    </tr>\n",
       "    <tr>\n",
       "      <th>8</th>\n",
       "      <td>2016-08-31</td>\n",
       "      <td>0.13</td>\n",
       "    </tr>\n",
       "    <tr>\n",
       "      <th>9</th>\n",
       "      <td>2016-09-01</td>\n",
       "      <td>0.00</td>\n",
       "    </tr>\n",
       "  </tbody>\n",
       "</table>\n",
       "</div>"
      ],
      "text/plain": [
       "         date  precipitation\n",
       "0  2016-08-23           0.00\n",
       "1  2016-08-24           0.08\n",
       "2  2016-08-25           0.08\n",
       "3  2016-08-26           0.00\n",
       "4  2016-08-27           0.00\n",
       "5  2016-08-28           0.01\n",
       "6  2016-08-29           0.00\n",
       "7  2016-08-30           0.00\n",
       "8  2016-08-31           0.13\n",
       "9  2016-09-01           0.00"
      ]
     },
     "execution_count": 14,
     "metadata": {},
     "output_type": "execute_result"
    }
   ],
   "source": [
    "#Take a quick look\n",
    "date_precip_df.head(10)"
   ]
  },
  {
   "cell_type": "code",
   "execution_count": 15,
   "id": "04df6d10-b800-45dc-8c41-ac7975a4a82f",
   "metadata": {
    "tags": []
   },
   "outputs": [],
   "source": [
    "#sort the date values in a new df.\n",
    "sorted_date = date_precip_df.sort_values('date')"
   ]
  },
  {
   "cell_type": "code",
   "execution_count": 16,
   "id": "3d82852e-e4ca-4257-82eb-8349aa5bab5a",
   "metadata": {
    "tags": []
   },
   "outputs": [
    {
     "data": {
      "text/plain": [
       "'2016-08-23'"
      ]
     },
     "execution_count": 16,
     "metadata": {},
     "output_type": "execute_result"
    }
   ],
   "source": [
    "sorted_date['date'].min()"
   ]
  },
  {
   "cell_type": "code",
   "execution_count": 17,
   "id": "d45a8da3-7f0c-410e-ae40-025241fcbad1",
   "metadata": {
    "tags": []
   },
   "outputs": [
    {
     "data": {
      "text/plain": [
       "Text(0.5, 1.0, 'Date by Precipitation')"
      ]
     },
     "execution_count": 17,
     "metadata": {},
     "output_type": "execute_result"
    },
    {
     "data": {
      "image/png": "[encoded data removed]",
      "text/plain": [
       "<Figure size 1000x600 with 1 Axes>"
      ]
     },
     "metadata": {},
     "output_type": "display_data"
    }
   ],
   "source": [
    "#Create a graph representing Rainfall distribution throughout the years\n",
    "sorted_date.plot(x='date', y='precipitation', rot = 90)\n",
    "plt.ylabel('Inches')\n",
    "plt.xlabel('Date')\n",
    "plt.title('Date by Precipitation')\n"
   ]
  },
  {
   "cell_type": "code",
   "execution_count": 18,
   "id": "b1224dbd-d343-4da2-a991-7fda39693c57",
   "metadata": {
    "tags": []
   },
   "outputs": [
    {
     "data": {
      "text/html": [
       "<div>\n",
       "<style scoped>\n",
       "    .dataframe tbody tr th:only-of-type {\n",
       "        vertical-align: middle;\n",
       "    }\n",
       "\n",
       "    .dataframe tbody tr th {\n",
       "        vertical-align: top;\n",
       "    }\n",
       "\n",
       "    .dataframe thead th {\n",
       "        text-align: right;\n",
       "    }\n",
       "</style>\n",
       "<table border=\"1\" class=\"dataframe\">\n",
       "  <thead>\n",
       "    <tr style=\"text-align: right;\">\n",
       "      <th></th>\n",
       "      <th>precipitation</th>\n",
       "    </tr>\n",
       "  </thead>\n",
       "  <tbody>\n",
       "    <tr>\n",
       "      <th>count</th>\n",
       "      <td>2021.000000</td>\n",
       "    </tr>\n",
       "    <tr>\n",
       "      <th>mean</th>\n",
       "      <td>0.177279</td>\n",
       "    </tr>\n",
       "    <tr>\n",
       "      <th>std</th>\n",
       "      <td>0.461190</td>\n",
       "    </tr>\n",
       "    <tr>\n",
       "      <th>min</th>\n",
       "      <td>0.000000</td>\n",
       "    </tr>\n",
       "    <tr>\n",
       "      <th>25%</th>\n",
       "      <td>0.000000</td>\n",
       "    </tr>\n",
       "    <tr>\n",
       "      <th>50%</th>\n",
       "      <td>0.020000</td>\n",
       "    </tr>\n",
       "    <tr>\n",
       "      <th>75%</th>\n",
       "      <td>0.130000</td>\n",
       "    </tr>\n",
       "    <tr>\n",
       "      <th>max</th>\n",
       "      <td>6.700000</td>\n",
       "    </tr>\n",
       "  </tbody>\n",
       "</table>\n",
       "</div>"
      ],
      "text/plain": [
       "       precipitation\n",
       "count    2021.000000\n",
       "mean        0.177279\n",
       "std         0.461190\n",
       "min         0.000000\n",
       "25%         0.000000\n",
       "50%         0.020000\n",
       "75%         0.130000\n",
       "max         6.700000"
      ]
     },
     "execution_count": 18,
     "metadata": {},
     "output_type": "execute_result"
    }
   ],
   "source": [
    "#Summary Statistics on precip_sorted_date\n",
    "precip_data_sumary = sorted_date.describe()\n",
    "precip_data_sumary"
   ]
  },
  {
   "cell_type": "code",
   "execution_count": 19,
   "id": "d441af90-77c7-4a00-a6bd-36eaac314ce3",
   "metadata": {
    "tags": []
   },
   "outputs": [
    {
     "data": {
      "text/plain": [
       "[(9,)]"
      ]
     },
     "execution_count": 19,
     "metadata": {},
     "output_type": "execute_result"
    }
   ],
   "source": [
    "#Stations Analysis \n",
    "#Get number of stations in the data set\n",
    "station_num = session.query(func.count(Table2.station)).all()\n",
    "station_num"
   ]
  },
  {
   "cell_type": "markdown",
   "id": "29fcb253-6ef4-4db8-a290-74091d2de7aa",
   "metadata": {},
   "source": [
    "## There are nine stations."
   ]
  },
  {
   "cell_type": "code",
   "execution_count": 20,
   "id": "d151105e-0fc8-42d8-bad2-c425d224e22c",
   "metadata": {
    "tags": []
   },
   "outputs": [
    {
     "data": {
      "text/plain": [
       "[('USC00519281', 2772),\n",
       " ('USC00519397', 2724),\n",
       " ('USC00513117', 2709),\n",
       " ('USC00519523', 2669),\n",
       " ('USC00516128', 2612),\n",
       " ('USC00514830', 2202),\n",
       " ('USC00511918', 1979),\n",
       " ('USC00517948', 1372),\n",
       " ('USC00518838', 511)]"
      ]
     },
     "execution_count": 20,
     "metadata": {},
     "output_type": "execute_result"
    }
   ],
   "source": [
    "#most activate stations \n",
    "active_stations = session.query(Table1.station,func.count(Table1.station)).group_by(Table1.station).order_by(func.count(Table1.station).desc()).all()\n",
    "#select ststions from table 2\n",
    "active_stations"
   ]
  },
  {
   "cell_type": "markdown",
   "id": "c2e854eb-624e-4c55-aaa1-0ed50d52e17f",
   "metadata": {},
   "source": [
    "### It seems that station 'USC00519281' had the most traffic. "
   ]
  },
  {
   "cell_type": "code",
   "execution_count": 21,
   "id": "04adba27-7a5a-486c-a822-de3decc7c260",
   "metadata": {},
   "outputs": [
    {
     "name": "stdout",
     "output_type": "stream",
     "text": [
      "The most active station is USC00519281 located in ('WAIHEE 837.5, HI US',)!\n",
      "The lowest temp at USC00519281 in ('WAIHEE 837.5, HI US',) from the data was (54.0,) degrees Fahrenheit!\n",
      "The highest temp at USC00519281 in ('WAIHEE 837.5, HI US',) from the data was (85.0,) degrees Fahrenheit!\n",
      "The average temp at USC00519281 in ('WAIHEE 837.5, HI US',) from the data was (71.66378066378067,) degrees Fahrenheit!\n"
     ]
    }
   ],
   "source": [
    "most_active_station = active_stations[0][0]\n",
    "# Obtain the station name from station id\n",
    "most_active_location = session.query(Table2.name).\\\n",
    "    filter(Table2.station == most_active_station).first()\n",
    "\n",
    "#print station id and the associated name\n",
    "print(f'The most active station is {most_active_station} located in {most_active_location}!')\n",
    "\n",
    "# Obtain lowest temp for the desired station\n",
    "lowest_temp = session.query(func.min(Table1.tobs)).\\\n",
    "    filter(Table1.station == most_active_station).first()\n",
    "\n",
    "# Obtain highest temp for the desired station\n",
    "highest_temp = session.query(func.max(Table1.tobs)).\\\n",
    "    filter(Table1.station == most_active_station).first()\n",
    "\n",
    "# Obtain the average temp for the desired station\n",
    "avg_temp = session.query(func.avg(Table1.tobs)).\\\n",
    "    filter(Table1.station == most_active_station).first()\n",
    "\n",
    "print(f'The lowest temp at {most_active_station} in {most_active_location} from the data was {lowest_temp} degrees Fahrenheit!')\n",
    "print(f'The highest temp at {most_active_station} in {most_active_location} from the data was {highest_temp} degrees Fahrenheit!')\n",
    "print(f'The average temp at {most_active_station} in {most_active_location} from the data was {avg_temp} degrees Fahrenheit!')\n"
   ]
  },
  {
   "cell_type": "code",
   "execution_count": 22,
   "id": "497ddd60-59a3-47e1-9e72-0eeae6c03d97",
   "metadata": {
    "tags": []
   },
   "outputs": [
    {
     "data": {
      "image/png": "[encoded data removed]",
      "text/plain": [
       "<Figure size 1000x600 with 1 Axes>"
      ]
     },
     "metadata": {},
     "output_type": "display_data"
    }
   ],
   "source": [
    "# Using the most active station id, query the last 12 months of temperature observation data for this station and plot the results as a histogram\n",
    "\n",
    "pastyrtemp = session.query(Table1.date,Table1.tobs).filter(\n",
    "    Table1.date <= most_recent_date,\n",
    "    Table1.date >= twelve_months_ago.strftime('%Y-%m-%d'),\n",
    "    Table1.station==most_active_station).all()\n",
    "#convert the query into a dataframe\n",
    "best_temp_df=pd.DataFrame([(item.date, item.tobs) for item in pastyrtemp],\n",
    "                  columns=['date', 'temperature'])\n",
    "#plot df as histogram\n",
    "best_temp_df.plot.hist(x='date',y='temperature',bins=12,color='lawngreen', edgecolor='red')\n",
    "plt.xlabel('Temperature')\n",
    "plt.title('Temperature Frequency Graph')\n",
    "plt.show()"
   ]
  },
  {
   "cell_type": "markdown",
   "id": "bcdfcb8a-f35c-4592-8702-2af656dac5c5",
   "metadata": {},
   "source": [
    "## Session Close"
   ]
  },
  {
   "cell_type": "code",
   "execution_count": 23,
   "id": "5114163c-8b03-4229-94f5-fe72a55fc64a",
   "metadata": {},
   "outputs": [],
   "source": [
    "# Close Session\n",
    "session.close()"
   ]
  },
  {
   "cell_type": "code",
   "execution_count": null,
   "id": "0496aaca-e8d5-4b0a-ac2b-1654e8229284",
   "metadata": {},
   "outputs": [],
   "source": []
  }
 ],
 "metadata": {
  "kernelspec": {
   "display_name": "Python 3 (ipykernel)",
   "language": "python",
   "name": "python3"
  },
  "language_info": {
   "codemirror_mode": {
    "name": "ipython",
    "version": 3
   },
   "file_extension": ".py",
   "mimetype": "text/x-python",
   "name": "python",
   "nbconvert_exporter": "python",
   "pygments_lexer": "ipython3",
   "version": "3.10.13"
  }
 },
 "nbformat": 4,
 "nbformat_minor": 5
}
